{
 "cells": [
  {
   "cell_type": "markdown",
   "metadata": {
    "pycharm": {
     "name": "#%% md\n"
    }
   },
   "source": [
    "## Playing with Tensors"
   ]
  },
  {
   "cell_type": "code",
   "execution_count": 5,
   "metadata": {
    "pycharm": {
     "name": "#%%\n"
    }
   },
   "outputs": [
    {
     "ename": "SyntaxError",
     "evalue": "invalid syntax (__init__.py, line 302)",
     "output_type": "error",
     "traceback": [
      "Traceback \u001b[0;36m(most recent call last)\u001b[0m:\n",
      "  File \u001b[1;32m~/.local/lib/python3.9/site-packages/IPython/core/interactiveshell.py:3369\u001b[0m in \u001b[1;35mrun_code\u001b[0m\n    exec(code_obj, self.user_global_ns, self.user_ns)\n",
      "\u001b[0;36m  Input \u001b[0;32mIn [5]\u001b[0;36m in \u001b[0;35m<cell line: 1>\u001b[0;36m\u001b[0m\n\u001b[0;31m    import torch\u001b[0m\n",
      "\u001b[0;36m  File \u001b[0;32m~/miniconda3/envs/Ml_env/lib/python3.9/site-packages/torch/__init__.py:302\u001b[0;36m\u001b[0m\n\u001b[0;31m    r\"\"\"Returns True if `obj` is a PyTorch storage object.\u001b[0m\n\u001b[0m        ^\u001b[0m\n\u001b[0;31mSyntaxError\u001b[0m\u001b[0;31m:\u001b[0m invalid syntax\n"
     ]
    }
   ],
   "source": [
    "import torch\n",
    "import numpy as np\n",
    "np.set_printoptions(precision=3)\n",
    "\n",
    "a = [1,2,3]\n",
    "\n",
    "b= np.array([4,5,6],dtype=np.int32)\n",
    "\n",
    "t_a = torch.Tensor(a)\n",
    "\n",
    "t_b = torch.from_numpy(b)\n",
    "\n",
    "print(t_a)\n",
    "print(t_b)"
   ]
  },
  {
   "cell_type": "markdown",
   "metadata": {
    "pycharm": {
     "name": "#%% md\n"
    }
   },
   "source": [
    "Math Operations to tensors:\n",
    "\n"
   ]
  },
  {
   "cell_type": "markdown",
   "metadata": {
    "pycharm": {
     "name": "#%% md\n"
    }
   },
   "source": [
    "Applying mathematical operations, in particular linear algebra operations, is necessary for building most machine learning models. In this subsection, we will cover some widely used linear algebra operations, such as element-wise product, matrix multiplication, and computing the norm of a tensor"
   ]
  },
  {
   "cell_type": "code",
   "execution_count": 4,
   "metadata": {
    "pycharm": {
     "name": "#%%\n"
    }
   },
   "outputs": [
    {
     "ename": "NameError",
     "evalue": "name 'torch' is not defined",
     "output_type": "error",
     "traceback": [
      "\u001b[0;31m---------------------------------------------------------------------------\u001b[0m",
      "\u001b[0;31mNameError\u001b[0m                                 Traceback (most recent call last)",
      "\u001b[1;32m/home/elegant00/Dropbox/Pytorch/MLWPSL/Tensors.ipynb Cell 5\u001b[0m in \u001b[0;36m<cell line: 1>\u001b[0;34m()\u001b[0m\n\u001b[0;32m----> <a href='vscode-notebook-cell://ssh-remote%2B192.168.100.245/home/elegant00/Dropbox/Pytorch/MLWPSL/Tensors.ipynb#W4sdnNjb2RlLXJlbW90ZQ%3D%3D?line=0'>1</a>\u001b[0m torch\u001b[39m.\u001b[39mmanual_seed(\u001b[39m1\u001b[39m)\n\u001b[1;32m      <a href='vscode-notebook-cell://ssh-remote%2B192.168.100.245/home/elegant00/Dropbox/Pytorch/MLWPSL/Tensors.ipynb#W4sdnNjb2RlLXJlbW90ZQ%3D%3D?line=1'>2</a>\u001b[0m t1 \u001b[39m=\u001b[39m \u001b[39m2\u001b[39m \u001b[39m*\u001b[39m torch\u001b[39m.\u001b[39mrand(\u001b[39m5\u001b[39m,\u001b[39m2\u001b[39m) \u001b[39m-\u001b[39m \u001b[39m1\u001b[39m \u001b[39m# between range 1 and -1\u001b[39;00m\n\u001b[1;32m      <a href='vscode-notebook-cell://ssh-remote%2B192.168.100.245/home/elegant00/Dropbox/Pytorch/MLWPSL/Tensors.ipynb#W4sdnNjb2RlLXJlbW90ZQ%3D%3D?line=2'>3</a>\u001b[0m t2 \u001b[39m=\u001b[39m torch\u001b[39m.\u001b[39mnormal(mean\u001b[39m=\u001b[39m\u001b[39m0\u001b[39m,std\u001b[39m=\u001b[39m\u001b[39m1\u001b[39m,size\u001b[39m=\u001b[39m(\u001b[39m5\u001b[39m,\u001b[39m2\u001b[39m)) \u001b[39m# Standard normal distribution\u001b[39;00m\n",
      "\u001b[0;31mNameError\u001b[0m: name 'torch' is not defined"
     ]
    }
   ],
   "source": [
    "torch.manual_seed(1)\n",
    "t1 = 2 * torch.rand(5,2) - 1 # between range 1 and -1\n",
    "t2 = torch.normal(mean=0,std=1,size=(5,2)) # Standard normal distribution\n",
    "t2"
   ]
  },
  {
   "cell_type": "markdown",
   "metadata": {
    "pycharm": {
     "name": "#%% md\n"
    }
   },
   "source": [
    "Reshaping a tensor"
   ]
  },
  {
   "cell_type": "code",
   "execution_count": 3,
   "metadata": {
    "pycharm": {
     "name": "#%%\n"
    }
   },
   "outputs": [
    {
     "name": "stdout",
     "output_type": "stream",
     "text": [
      "torch.Size([5, 6])\n"
     ]
    }
   ],
   "source": [
    "t = torch.zeros(30)\n",
    "t_reshape = t.reshape(5,6)\n",
    "print(t_reshape.shape)"
   ]
  },
  {
   "cell_type": "markdown",
   "metadata": {
    "pycharm": {
     "name": "#%% md\n"
    }
   },
   "source": [
    "## Creating a pytorch dataloader"
   ]
  },
  {
   "cell_type": "markdown",
   "metadata": {
    "pycharm": {
     "name": "#%% md\n"
    }
   },
   "source": [
    ". As a simple example, consider the following code, which creates a dataset from a list of values from 0 to 5:"
   ]
  },
  {
   "cell_type": "code",
   "execution_count": 4,
   "metadata": {
    "pycharm": {
     "name": "#%%\n"
    }
   },
   "outputs": [
    {
     "name": "stdout",
     "output_type": "stream",
     "text": [
      "tensor([0.])\n",
      "tensor([1.])\n",
      "tensor([2.])\n",
      "tensor([3.])\n",
      "tensor([4.])\n",
      "tensor([5.])\n",
      "tensor([6.])\n",
      "tensor([7.])\n",
      "tensor([8.])\n",
      "tensor([9.])\n",
      "tensor([10.])\n",
      "tensor([11.])\n"
     ]
    }
   ],
   "source": [
    "from torch.utils.data import DataLoader\n",
    "\n",
    "t = torch.arange(12,dtype=torch.float32)\n",
    "data_loader = DataLoader(t)\n",
    "\n",
    "for item in data_loader:\n",
    "    print(item)"
   ]
  },
  {
   "cell_type": "markdown",
   "metadata": {
    "pycharm": {
     "name": "#%% md\n"
    }
   },
   "source": [
    "If we want to create batches from this dataset, with a desired batch size of 3, we can do this with the batch_size argument as follows:"
   ]
  },
  {
   "cell_type": "markdown",
   "metadata": {
    "pycharm": {
     "name": "#%% md\n"
    }
   },
   "source": [
    "For 12 tensors:"
   ]
  },
  {
   "cell_type": "code",
   "execution_count": 5,
   "metadata": {
    "pycharm": {
     "name": "#%%\n"
    }
   },
   "outputs": [
    {
     "name": "stdout",
     "output_type": "stream",
     "text": [
      "batch 1 tensor([0., 1., 2., 3.])\n",
      "batch 2 tensor([4., 5., 6., 7.])\n",
      "batch 3 tensor([ 8.,  9., 10., 11.])\n"
     ]
    }
   ],
   "source": [
    "data_loader = DataLoader(t,batch_size = 4 , drop_last= False)\n",
    "for i,batch in enumerate(data_loader,1):\n",
    "    print(f\"batch {i}\",batch)"
   ]
  },
  {
   "cell_type": "markdown",
   "metadata": {
    "pycharm": {
     "name": "#%% md\n"
    }
   },
   "source": [
    "#### Combining multiple tensors"
   ]
  },
  {
   "cell_type": "code",
   "execution_count": 6,
   "metadata": {
    "pycharm": {
     "name": "#%%\n"
    }
   },
   "outputs": [
    {
     "name": "stdout",
     "output_type": "stream",
     "text": [
      " x: tensor([0.0611, 0.2246, 0.2343], dtype=torch.float64), y: 0\n",
      " x: tensor([0.1771, 0.5561, 0.1094], dtype=torch.float64), y: 1\n",
      " x: tensor([0.4609, 0.7084, 0.5798], dtype=torch.float64), y: 2\n",
      " x: tensor([0.4967, 0.5104, 0.3295], dtype=torch.float64), y: 3\n"
     ]
    }
   ],
   "source": [
    "from torch.utils.data import Dataset\n",
    "\n",
    "class JoinData(Dataset):\n",
    "    def __init__(self,x,y):\n",
    "        self.x = x\n",
    "        self.y = y\n",
    "    def __len__(self):\n",
    "        return len(self.x)\n",
    "    def __getitem__(self,idx)\"\"\"  \"\"\":\n",
    "        return self.x[idx],self.y[idx]\n",
    "\n",
    "torch.manual_seed(1)\n",
    "t_x = torch.rand([4,3],dtype=torch.float64)\n",
    "t_y = torch.arange(4)\n",
    "\n",
    "jointData = JoinData(t_x,t_y)\n",
    "\n",
    "for example in jointData:\n",
    "    print(f\" x: {example[0]}, y: {example[1]}\")"
   ]
  },
  {
   "cell_type": "markdown",
   "metadata": {
    "pycharm": {
     "name": "#%% md\n"
    }
   },
   "source": [
    "Suffle, batch and Repeat"
   ]
  },
  {
   "cell_type": "code",
   "execution_count": 7,
   "metadata": {
    "pycharm": {
     "name": "#%%\n"
    }
   },
   "outputs": [
    {
     "name": "stdout",
     "output_type": "stream",
     "text": [
      "Batch 1:, x: tensor([[0.4609, 0.7084, 0.5798],\n",
      "        [0.0611, 0.2246, 0.2343]], dtype=torch.float64) , y : tensor([2, 0])\n",
      "Batch 2:, x: tensor([[0.1771, 0.5561, 0.1094],\n",
      "        [0.4967, 0.5104, 0.3295]], dtype=torch.float64) , y : tensor([1, 3])\n"
     ]
    }
   ],
   "source": [
    "torch.manual_seed(1)\n",
    "\n",
    "data_loader = DataLoader(dataset=jointData,batch_size=2,shuffle=True)\n",
    "\n",
    "for i,batch in enumerate(data_loader,1):\n",
    "    print(f\"Batch {i}:, x: {batch[0]} , y : {batch[1]}\")"
   ]
  },
  {
   "cell_type": "code",
   "execution_count": 8,
   "metadata": {
    "pycharm": {
     "name": "#%%\n"
    }
   },
   "outputs": [
    {
     "name": "stdout",
     "output_type": "stream",
     "text": [
      "epoch 1\n",
      "Batch 1:, x: tensor([[0.0611, 0.2246, 0.2343],\n",
      "        [0.4609, 0.7084, 0.5798]], dtype=torch.float64) , y : tensor([0, 2])\n",
      "Batch 2:, x: tensor([[0.1771, 0.5561, 0.1094],\n",
      "        [0.4967, 0.5104, 0.3295]], dtype=torch.float64) , y : tensor([1, 3])\n",
      "epoch 2\n",
      "Batch 1:, x: tensor([[0.4967, 0.5104, 0.3295],\n",
      "        [0.4609, 0.7084, 0.5798]], dtype=torch.float64) , y : tensor([3, 2])\n",
      "Batch 2:, x: tensor([[0.0611, 0.2246, 0.2343],\n",
      "        [0.1771, 0.5561, 0.1094]], dtype=torch.float64) , y : tensor([0, 1])\n"
     ]
    }
   ],
   "source": [
    "## Epoch training\n",
    "# TRAIN FOR 2 EPOCHS\n",
    "for epoch in range(len(batch)):\n",
    "    print(f'epoch {epoch+1}')\n",
    "    for i,batch in enumerate(data_loader,1):\n",
    "        print(f\"Batch {i}:, x: {batch[0]} , y : {batch[1]}\")"
   ]
  }
 ],
 "metadata": {
  "kernelspec": {
   "display_name": "Python 3.9.12 ('Ml_env')",
   "language": "python",
   "name": "python3"
  },
  "language_info": {
   "codemirror_mode": {
    "name": "ipython",
    "version": 3
   },
   "file_extension": ".py",
   "mimetype": "text/x-python",
   "name": "python",
   "nbconvert_exporter": "python",
   "pygments_lexer": "ipython3",
   "version": "3.9.12"
  },
  "orig_nbformat": 4,
  "vscode": {
   "interpreter": {
    "hash": "3830a7e6ea4af0e580fdf07942c7ce0f864fa8c37579e37ec65ad71d2e9828ca"
   }
  }
 },
 "nbformat": 4,
 "nbformat_minor": 2
}
